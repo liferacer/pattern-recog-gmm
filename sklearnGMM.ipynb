{
 "cells": [
  {
   "cell_type": "code",
   "execution_count": 35,
   "metadata": {
    "collapsed": true
   },
   "outputs": [],
   "source": [
    "import sklearn.mixture as gmm\n",
    "import numpy as np\n",
    "import pandas as pd\n",
    "import os"
   ]
  },
  {
   "cell_type": "code",
   "execution_count": 11,
   "metadata": {
    "collapsed": false
   },
   "outputs": [
    {
     "data": {
      "text/html": [
       "<div>\n",
       "<table border=\"1\" class=\"dataframe\">\n",
       "  <thead>\n",
       "    <tr style=\"text-align: right;\">\n",
       "      <th></th>\n",
       "      <th>X-coordinate</th>\n",
       "      <th>Y-coordinate</th>\n",
       "      <th>Time stamp</th>\n",
       "      <th>Button status</th>\n",
       "      <th>Azimuth</th>\n",
       "      <th>Altitude</th>\n",
       "      <th>Pressure</th>\n",
       "    </tr>\n",
       "  </thead>\n",
       "  <tbody>\n",
       "    <tr>\n",
       "      <th>0</th>\n",
       "      <td>84</td>\n",
       "      <td>NaN</td>\n",
       "      <td>NaN</td>\n",
       "      <td>NaN</td>\n",
       "      <td>NaN</td>\n",
       "      <td>NaN</td>\n",
       "      <td>NaN</td>\n",
       "    </tr>\n",
       "    <tr>\n",
       "      <th>1</th>\n",
       "      <td>2933</td>\n",
       "      <td>5678.0</td>\n",
       "      <td>31275775.0</td>\n",
       "      <td>0.0</td>\n",
       "      <td>1550.0</td>\n",
       "      <td>710.0</td>\n",
       "      <td>439.0</td>\n",
       "    </tr>\n",
       "    <tr>\n",
       "      <th>2</th>\n",
       "      <td>2933</td>\n",
       "      <td>5678.0</td>\n",
       "      <td>31275785.0</td>\n",
       "      <td>1.0</td>\n",
       "      <td>1480.0</td>\n",
       "      <td>770.0</td>\n",
       "      <td>420.0</td>\n",
       "    </tr>\n",
       "    <tr>\n",
       "      <th>3</th>\n",
       "      <td>3001</td>\n",
       "      <td>5851.0</td>\n",
       "      <td>31275795.0</td>\n",
       "      <td>1.0</td>\n",
       "      <td>1350.0</td>\n",
       "      <td>830.0</td>\n",
       "      <td>433.0</td>\n",
       "    </tr>\n",
       "    <tr>\n",
       "      <th>4</th>\n",
       "      <td>3114</td>\n",
       "      <td>6139.0</td>\n",
       "      <td>31275805.0</td>\n",
       "      <td>1.0</td>\n",
       "      <td>1350.0</td>\n",
       "      <td>800.0</td>\n",
       "      <td>422.0</td>\n",
       "    </tr>\n",
       "  </tbody>\n",
       "</table>\n",
       "</div>"
      ],
      "text/plain": [
       "   X-coordinate  Y-coordinate  Time stamp  Button status  Azimuth  Altitude  \\\n",
       "0            84           NaN         NaN            NaN      NaN       NaN   \n",
       "1          2933        5678.0  31275775.0            0.0   1550.0     710.0   \n",
       "2          2933        5678.0  31275785.0            1.0   1480.0     770.0   \n",
       "3          3001        5851.0  31275795.0            1.0   1350.0     830.0   \n",
       "4          3114        6139.0  31275805.0            1.0   1350.0     800.0   \n",
       "\n",
       "   Pressure  \n",
       "0       NaN  \n",
       "1     439.0  \n",
       "2     420.0  \n",
       "3     433.0  \n",
       "4     422.0  "
      ]
     },
     "execution_count": 11,
     "metadata": {},
     "output_type": "execute_result"
    }
   ],
   "source": [
    "df = pd.read_csv('Task2/U1S1.txt',sep=' ',names=['X-coordinate','Y-coordinate','Time stamp','Button status','Azimuth','Altitude','Pressure'])\n",
    "# df2 = pd.read_csv('Task2/U1S4.txt',sep=' ',names=['X-coordinate','Y-coordinate','Time stamp','Button status','Azimuth','Altitude','Pressure'])\n",
    "df.head()\n",
    "# df = [df.values]\n",
    "# df2 = [df2.values]\n",
    "# x = np.hstack((df,df2))\n",
    "# x"
   ]
  },
  {
   "cell_type": "code",
   "execution_count": 26,
   "metadata": {},
   "outputs": [
    {
     "data": {
      "text/plain": [
       "array([[1, 2, 3],\n",
       "       [2, 3, 4],\n",
       "       [3, 4, 5],\n",
       "       [4, 5, 5],\n",
       "       [1, 2, 3],\n",
       "       [2, 4, 5],\n",
       "       [5, 5, 2]])"
      ]
     },
     "execution_count": 26,
     "metadata": {},
     "output_type": "execute_result"
    }
   ],
   "source": [
    "a = [[1,2,3],[2,3,4],[3,4,5],[4,5,5]]\n",
    "b = [[1,2,3],[2,4,5],[5,5,2]]\n",
    "np.vstack((a,b))"
   ]
  },
  {
   "cell_type": "code",
   "execution_count": 30,
   "metadata": {
    "collapsed": false
   },
   "outputs": [
    {
     "data": {
      "text/plain": [
       "(142, 7)"
      ]
     },
     "execution_count": 30,
     "metadata": {},
     "output_type": "execute_result"
    }
   ],
   "source": [
    "sig_files = os.listdir('Task2')\n",
    "sig_array = pd.read_csv('Task2/'+sig_files[0],sep=' ',names=['X-coordinate','Y-coordinate','Time stamp','Button status','Azimuth','Altitude','Pressure'])\n",
    "sig_array = sig_array.ix[1:]\n",
    "sig_array = np.array(sig_array.values)\n",
    "# sig_array = []\n",
    "for i in sig_files[1:]:\n",
    "    df = pd.read_csv('Task2/'+i,sep=' ',names=['X-coordinate','Y-coordinate','Time stamp','Button status','Azimuth','Altitude','Pressure'])\n",
    "    df = df.ix[1:]\n",
    "    df = np.array(df.values)\n",
    "    np.vstack((sig_array,df))\n",
    "sig_array.shape"
   ]
  },
  {
   "cell_type": "code",
   "execution_count": 36,
   "metadata": {
    "collapsed": false
   },
   "outputs": [],
   "source": [
    "gmm = gmm.GaussianMixture(n_components=40, max_iter=1000, verbose=2, verbose_interval=100)"
   ]
  },
  {
   "cell_type": "code",
   "execution_count": 37,
   "metadata": {
    "collapsed": false
   },
   "outputs": [
    {
     "name": "stdout",
     "output_type": "stream",
     "text": [
      "Initialization 0\n",
      "  Iteration 0\t time lapse 0.04167s\t ll change inf\n",
      "Initialization converged: True\t time lapse 0.05184s\t ll 4.32044\n"
     ]
    },
    {
     "data": {
      "text/plain": [
       "GaussianMixture(covariance_type='full', init_params='kmeans', max_iter=1000,\n",
       "        means_init=None, n_components=40, n_init=1, precisions_init=None,\n",
       "        random_state=None, reg_covar=1e-06, tol=0.001, verbose=2,\n",
       "        verbose_interval=100, warm_start=False, weights_init=None)"
      ]
     },
     "execution_count": 37,
     "metadata": {},
     "output_type": "execute_result"
    }
   ],
   "source": [
    "gmm.fit(sig_array,[1,2])"
   ]
  },
  {
   "cell_type": "code",
   "execution_count": null,
   "metadata": {
    "collapsed": true
   },
   "outputs": [],
   "source": []
  }
 ],
 "metadata": {
  "kernelspec": {
   "display_name": "Python 3",
   "language": "python",
   "name": "python3"
  },
  "language_info": {
   "codemirror_mode": {
    "name": "ipython",
    "version": 3
   },
   "file_extension": ".py",
   "mimetype": "text/x-python",
   "name": "python",
   "nbconvert_exporter": "python",
   "pygments_lexer": "ipython3",
   "version": "3.6.0"
  }
 },
 "nbformat": 4,
 "nbformat_minor": 2
}
